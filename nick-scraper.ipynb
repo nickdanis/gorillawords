{
 "metadata": {
  "language_info": {
   "codemirror_mode": {
    "name": "ipython",
    "version": 3
   },
   "file_extension": ".py",
   "mimetype": "text/x-python",
   "name": "python",
   "nbconvert_exporter": "python",
   "pygments_lexer": "ipython3",
   "version": "3.7.6"
  },
  "orig_nbformat": 2,
  "kernelspec": {
   "name": "python37664bit8ebcdbbb0f8548a88014d2138d5dd4f5",
   "display_name": "Python 3.7.6 64-bit"
  },
  "metadata": {
   "interpreter": {
    "hash": "89550c41512397be3b92a88a74e3b1e8549c4151dd6ce085be64a8e2e8a2e248"
   }
  }
 },
 "nbformat": 4,
 "nbformat_minor": 2,
 "cells": [
  {
   "cell_type": "code",
   "execution_count": 13,
   "metadata": {},
   "outputs": [],
   "source": [
    "import pandas as pd\n",
    "from bs4 import BeautifulSoup\n",
    "from urllib.request import urlopen\n",
    "import re"
   ]
  },
  {
   "cell_type": "code",
   "execution_count": 39,
   "metadata": {},
   "outputs": [],
   "source": [
    "html = urlopen('https://www.xwordinfo.com/Crossword?date=1/10/2000')\n",
    "soup = BeautifulSoup(html,'html.parser')"
   ]
  },
  {
   "cell_type": "code",
   "execution_count": 45,
   "metadata": {},
   "outputs": [
    {
     "output_type": "execute_result",
     "data": {
      "text/plain": [
       "'38'"
      ]
     },
     "metadata": {},
     "execution_count": 45
    }
   ],
   "source": [
    "def get_stats():\n",
    "    stats = soup.find_all('div',{'id':'CPHContent_StatsData'})[0].find_all('span')\n",
    "    rows = re.search('(?<=Rows: )\\d+',stats[0].get_text()).group(0)\n",
    "    columns = re.search('(?<=Columns: )\\d+',stats[0].get_text()).group(0)\n",
    "    words = re.search('(?<=Words: )\\d+',stats[1].get_text()).group(0)\n",
    "    blocks = re.search('(?<=Blocks: )\\d+',stats[1].get_text()).group(0)\n",
    "    missing = re.search('({)(.+)(})',stats[4].get_text()).group(2)\n",
    "    return {'rows' : rows, 'cols' : columns, 'words' : words, 'blocks' : blocks, 'missing' : missing}\n",
    "\n",
    "stats_dict = get_stats()\n",
    "\n",
    "stats_dict['blocks']\n",
    "\n",
    "\n"
   ]
  },
  {
   "cell_type": "code",
   "execution_count": null,
   "metadata": {},
   "outputs": [],
   "source": []
  },
  {
   "cell_type": "code",
   "execution_count": 40,
   "metadata": {},
   "outputs": [
    {
     "output_type": "stream",
     "name": "stdout",
     "text": [
      "15 15 78 38 JQW\n"
     ]
    }
   ],
   "source": [
    "\n",
    "\n"
   ]
  },
  {
   "source": [
    "TODO: add the above as columns in the csv creation function"
   ],
   "cell_type": "markdown",
   "metadata": {}
  }
 ]
}