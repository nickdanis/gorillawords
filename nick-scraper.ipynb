{
 "metadata": {
  "language_info": {
   "codemirror_mode": {
    "name": "ipython",
    "version": 3
   },
   "file_extension": ".py",
   "mimetype": "text/x-python",
   "name": "python",
   "nbconvert_exporter": "python",
   "pygments_lexer": "ipython3",
   "version": "3.7.6"
  },
  "orig_nbformat": 2,
  "kernelspec": {
   "name": "python37664bit8ebcdbbb0f8548a88014d2138d5dd4f5",
   "display_name": "Python 3.7.6 64-bit"
  },
  "metadata": {
   "interpreter": {
    "hash": "89550c41512397be3b92a88a74e3b1e8549c4151dd6ce085be64a8e2e8a2e248"
   }
  }
 },
 "nbformat": 4,
 "nbformat_minor": 2,
 "cells": [
  {
   "cell_type": "code",
   "execution_count": 13,
   "metadata": {},
   "outputs": [],
   "source": [
    "import pandas as pd\n",
    "from bs4 import BeautifulSoup\n",
    "from urllib.request import urlopen\n",
    "import re"
   ]
  },
  {
   "cell_type": "code",
   "execution_count": 2,
   "metadata": {},
   "outputs": [],
   "source": [
    "html = urlopen('https://www.xwordinfo.com/Crossword?date=1/1/2000')\n",
    "soup = BeautifulSoup(html,'html.parser')"
   ]
  },
  {
   "cell_type": "code",
   "execution_count": 37,
   "metadata": {},
   "outputs": [
    {
     "output_type": "stream",
     "name": "stdout",
     "text": [
      "15 15 70 31 JQVZ\n"
     ]
    }
   ],
   "source": [
    "stats = soup.find_all('div',{'id':'CPHContent_StatsData'})[0]\n",
    "rows = re.search('(?<=Rows: )\\d+',stats.find_all('span')[0].get_text()).group(0)\n",
    "columns = re.search('(?<=Columns: )\\d+',stats.find_all('span')[0].get_text()).group(0)\n",
    "words = re.search('(?<=Words: )\\d+',stats.find_all('span')[1].get_text()).group(0)\n",
    "blocks = re.search('(?<=Blocks: )\\d+',stats.find_all('span')[1].get_text()).group(0)\n",
    "missing = re.search('({)(.+)(})',stats.find_all('span')[4].get_text()).group(2)\n",
    "print(rows, columns, words, blocks, missing)\n",
    "\n",
    "\n"
   ]
  },
  {
   "source": [
    "TODO: add the above as columns in the csv creation function"
   ],
   "cell_type": "markdown",
   "metadata": {}
  }
 ]
}