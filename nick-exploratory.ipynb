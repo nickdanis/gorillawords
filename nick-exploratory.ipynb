{
 "metadata": {
  "language_info": {
   "codemirror_mode": {
    "name": "ipython",
    "version": 3
   },
   "file_extension": ".py",
   "mimetype": "text/x-python",
   "name": "python",
   "nbconvert_exporter": "python",
   "pygments_lexer": "ipython3",
   "version": "3.7.6"
  },
  "orig_nbformat": 2,
  "kernelspec": {
   "name": "python37664bit8ebcdbbb0f8548a88014d2138d5dd4f5",
   "display_name": "Python 3.7.6 64-bit"
  },
  "metadata": {
   "interpreter": {
    "hash": "89550c41512397be3b92a88a74e3b1e8549c4151dd6ce085be64a8e2e8a2e248"
   }
  }
 },
 "nbformat": 4,
 "nbformat_minor": 2,
 "cells": [
  {
   "source": [
    "updated 5/19/2021"
   ],
   "cell_type": "markdown",
   "metadata": {}
  },
  {
   "cell_type": "code",
   "execution_count": null,
   "metadata": {},
   "outputs": [],
   "source": [
    "import pandas as pd\n",
    "import matplotlib.pyplot as plt\n",
    "import numpy as np\n",
    "import matplotlib.cm as cm\n",
    "import nltk\n",
    "from collections import defaultdict"
   ]
  },
  {
   "cell_type": "code",
   "execution_count": null,
   "metadata": {},
   "outputs": [],
   "source": [
    "# read csv making sure Answer column is a string because of \"NULL\" answers\n",
    "df = pd.read_csv(\"nick-xword-big.csv\",converters={'Answer' : str, 'Hint' : str})\n",
    "\n",
    "# Puzzle count by author\n",
    "df.groupby(['Author'])['PuzTitle'].nunique().sort_values(ascending=False).reset_index()"
   ]
  },
  {
   "cell_type": "code",
   "execution_count": null,
   "metadata": {},
   "outputs": [],
   "source": [
    "df.head()"
   ]
  },
  {
   "cell_type": "code",
   "execution_count": null,
   "metadata": {},
   "outputs": [],
   "source": [
    "#Average number of blocks by weekday\n",
    "df.groupby(['Weekday'])['NumBlocks'].mean().sort_values(ascending=False).reset_index()"
   ]
  },
  {
   "cell_type": "code",
   "execution_count": null,
   "metadata": {},
   "outputs": [],
   "source": [
    "# Create BlockDensity column\n",
    "df['BlockDensity'] = (df['NumBlocks'] / (df['NumRows'] * df['NumCols']))*100"
   ]
  },
  {
   "cell_type": "code",
   "execution_count": null,
   "metadata": {},
   "outputs": [],
   "source": [
    "#Make a column for answer length\n",
    "df['AnswerLength'] = df['Answer'].str.len()"
   ]
  },
  {
   "cell_type": "code",
   "execution_count": null,
   "metadata": {},
   "outputs": [],
   "source": [
    "# top ten longest answers\n",
    "df.sort_values(by='AnswerLength',ascending=False).head(10)[['Weekday','Hint','Answer','AnswerLength']]"
   ]
  },
  {
   "source": [
    "## block density"
   ],
   "cell_type": "markdown",
   "metadata": {}
  },
  {
   "cell_type": "code",
   "execution_count": null,
   "metadata": {},
   "outputs": [],
   "source": [
    "# Get the average BlockDensity by day, and also all individual BlockDensity values for the plot later\n",
    "data = df.groupby(['Weekday'])['BlockDensity'].agg([np.mean, list]).reset_index()\n",
    "data"
   ]
  },
  {
   "cell_type": "code",
   "execution_count": null,
   "metadata": {},
   "outputs": [],
   "source": [
    "# Sort by the mean\n",
    "data.sort_values(by='mean', ascending=False, inplace=True)"
   ]
  },
  {
   "cell_type": "code",
   "execution_count": null,
   "metadata": {},
   "outputs": [],
   "source": [
    "# plot\n",
    "fig, ax = plt.subplots()\n",
    "fig.set_size_inches(10, 8)\n",
    "bplot = ax.boxplot(data['list'],patch_artist=True, medianprops=dict(color='black'))\n",
    "ax.set_xticklabels(data['Weekday'].tolist(),fontsize=14)\n",
    "ax.set_ylabel('pct of puzzle as blocks',fontsize=16)\n",
    "ax.set_title('BlockDensity by weekday',fontsize=20)\n",
    "ax.grid(True,axis='y')\n",
    "\n",
    "cmap = cm.get_cmap('Pastel1')\n",
    "\n",
    "for patch, color in zip(bplot['boxes'], cmap.colors):\n",
    "    patch.set_facecolor(color)\n",
    "#plt.savefig(fname=\"density\")\n",
    "plt.show()"
   ]
  },
  {
   "source": [
    "## puzzle density over time"
   ],
   "cell_type": "markdown",
   "metadata": {}
  },
  {
   "cell_type": "code",
   "execution_count": null,
   "metadata": {},
   "outputs": [],
   "source": [
    "# make a single date column (this should also serve a unique puzzle identifier)\n",
    "df['Date'] = df['Year'].astype(str) +'-'+ df['Month'].astype(str) +'-'+ df['Day'].astype(str)\n",
    "df['Date'] = pd.to_datetime(df['Date'])"
   ]
  },
  {
   "cell_type": "code",
   "execution_count": null,
   "metadata": {},
   "outputs": [],
   "source": [
    "time_data = df.groupby(['Weekday','Year'])['BlockDensity'].mean().reset_index().copy()\n",
    "time_data"
   ]
  },
  {
   "cell_type": "code",
   "execution_count": null,
   "metadata": {},
   "outputs": [],
   "source": [
    "fig, ax = plt.subplots()\n",
    "fig.set_size_inches(10, 8)\n",
    "\n",
    "for day in df.Weekday.unique().tolist():\n",
    "    ax.plot(time_data['Year'].loc[time_data['Weekday'] == day],time_data['BlockDensity'].loc[time_data['Weekday'] == day],label=day)\n",
    "\n",
    "\n",
    "ax.set_ylabel('pct of puzzle as blocks',fontsize=14)\n",
    "ax.set_title('Average weekday puzzle density by year',fontsize=16)\n",
    "ax.legend()\n",
    "\n",
    "plt.show()"
   ]
  },
  {
   "cell_type": "code",
   "execution_count": null,
   "metadata": {},
   "outputs": [],
   "source": [
    "# inspect short answers\n",
    "df.loc[df['Answer'].str.len() < 2]"
   ]
  },
  {
   "source": [
    "## average answer length"
   ],
   "cell_type": "markdown",
   "metadata": {}
  },
  {
   "cell_type": "code",
   "execution_count": null,
   "metadata": {},
   "outputs": [],
   "source": [
    "len_data = df.groupby('Weekday')['AnswerLength'].agg([np.mean, list]).reset_index().copy()\n",
    "len_data.sort_values(by='mean', ascending=True, inplace=True)\n",
    "len_data"
   ]
  },
  {
   "cell_type": "code",
   "execution_count": null,
   "metadata": {},
   "outputs": [],
   "source": [
    "fig1, ax1 = plt.subplots()\n",
    "fig1.set_size_inches(10, 8)\n",
    "\n",
    "ax1.boxplot(len_data['list'], showfliers=False, showmeans=True)\n",
    "ax1.set_xticklabels(len_data['Weekday'].tolist(),fontsize=14)\n",
    "ax1.set_ylabel('length of answer',fontsize=16)\n",
    "ax1.set_title('Answer length by weekday',fontsize=20)\n",
    "ax1.grid(True,axis='y')\n",
    "\n",
    "plt.show()"
   ]
  },
  {
   "source": [
    "## playing with homophones, work in progress"
   ],
   "cell_type": "markdown",
   "metadata": {}
  },
  {
   "cell_type": "code",
   "execution_count": null,
   "metadata": {},
   "outputs": [],
   "source": [
    "prondict = nltk.corpus.cmudict.dict()\n",
    "pronentries = nltk.corpus.cmudict.entries()"
   ]
  },
  {
   "cell_type": "code",
   "execution_count": null,
   "metadata": {},
   "outputs": [],
   "source": [
    "homophonedict = defaultdict(list)\n",
    "\n",
    "# compile a dictionary with pronunciations as keys and lists of words as values\n",
    "for word, pron in pronentries:\n",
    "    ent = tuple(pron)\n",
    "    homophonedict[ent].append(word)"
   ]
  },
  {
   "cell_type": "code",
   "execution_count": null,
   "metadata": {
    "tags": []
   },
   "outputs": [],
   "source": [
    "def get_homophones(word):\n",
    "    '''take a word and return all other words with potentially same pronunciation as a list'''\n",
    "    homophones = set()\n",
    "    # get all pronunciations of the word\n",
    "    prons = prondict.get(word)\n",
    "    # feed each pron into homophone dict, get results\n",
    "    if prons is not None:\n",
    "        for p in prons:\n",
    "            homophones.update(homophonedict.get(tuple(p)))\n",
    "    # return unique homophones\n",
    "    homophones.discard(word)\n",
    "    return list(homophones)"
   ]
  },
  {
   "cell_type": "code",
   "execution_count": null,
   "metadata": {},
   "outputs": [],
   "source": [
    "get_homophones('bite')"
   ]
  },
  {
   "cell_type": "code",
   "execution_count": null,
   "metadata": {},
   "outputs": [],
   "source": [
    "test = \"The man walked to the store and bought a pie?\"\n",
    "\n",
    "def get_clue_homophones(clue):\n",
    "    num_homophones = 0\n",
    "    tokens = nltk.word_tokenize(clue)\n",
    "    for token in tokens:\n",
    "        num_homophones += len(get_homophones(token.lower()))\n",
    "        #print(get_homophones(token.lower()))\n",
    "    return num_homophones"
   ]
  },
  {
   "cell_type": "code",
   "execution_count": null,
   "metadata": {},
   "outputs": [],
   "source": [
    "get_clue_homophones(test)"
   ]
  },
  {
   "cell_type": "code",
   "execution_count": null,
   "metadata": {},
   "outputs": [],
   "source": [
    "get_clue_homophones('bite?')"
   ]
  },
  {
   "cell_type": "code",
   "execution_count": null,
   "metadata": {},
   "outputs": [],
   "source": [
    "df['HintHomophones'] = df['Hint'].apply(lambda x: get_clue_homophones(x))"
   ]
  },
  {
   "cell_type": "code",
   "execution_count": null,
   "metadata": {},
   "outputs": [],
   "source": [
    "df['HintLength'] = df['Hint'].apply(lambda x: len(nltk.word_tokenize(x)))"
   ]
  },
  {
   "cell_type": "code",
   "execution_count": null,
   "metadata": {},
   "outputs": [],
   "source": [
    "df.groupby('Weekday')['HintHomophones'].sum()"
   ]
  },
  {
   "cell_type": "code",
   "execution_count": null,
   "metadata": {},
   "outputs": [],
   "source": [
    "for i in range(len(df)):\n",
    "    try:\n",
    "        get_clue_homophones(df['Hint'].loc[i])\n",
    "    except:\n",
    "        print(i,df['Hint'].loc[i])"
   ]
  },
  {
   "cell_type": "code",
   "execution_count": null,
   "metadata": {},
   "outputs": [],
   "source": [
    "df.loc[235264]"
   ]
  },
  {
   "cell_type": "code",
   "execution_count": null,
   "metadata": {},
   "outputs": [],
   "source": []
  }
 ]
}