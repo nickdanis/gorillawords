{
 "cells": [
  {
   "cell_type": "code",
   "execution_count": 1,
   "metadata": {},
   "outputs": [],
   "source": [
    "import pandas as pd\n",
    "import numpy as np\n",
    "from mpl_toolkits import mplot3d\n",
    "import matplotlib.pyplot as plt\n",
    "import matplotlib.cm as cm #color maps\n",
    "import seaborn as sns\n",
    "\n",
    "from sklearn.model_selection import train_test_split\n",
    "from sklearn.model_selection import StratifiedKFold\n",
    "from sklearn.metrics import confusion_matrix\n",
    "from sklearn.metrics import plot_confusion_matrix\n",
    "\n",
    "from sklearn import tree\n",
    "from sklearn.tree import DecisionTreeClassifier\n",
    "from sklearn.base import clone\n",
    "from sklearn.preprocessing import StandardScaler\n",
    "from sklearn.pipeline import Pipeline\n",
    "from sklearn.svm import LinearSVC\n",
    "from sklearn.decomposition import PCA\n",
    "from sklearn.ensemble import VotingClassifier\n",
    "from sklearn.ensemble import RandomForestClassifier\n",
    "\n",
    "from sklearn.metrics import accuracy_score\n",
    "from sklearn.metrics import precision_score\n",
    "from sklearn.metrics import recall_score"
   ]
  },
  {
   "cell_type": "code",
   "execution_count": 2,
   "metadata": {},
   "outputs": [
    {
     "data": {
      "text/html": [
       "<div>\n",
       "<style scoped>\n",
       "    .dataframe tbody tr th:only-of-type {\n",
       "        vertical-align: middle;\n",
       "    }\n",
       "\n",
       "    .dataframe tbody tr th {\n",
       "        vertical-align: top;\n",
       "    }\n",
       "\n",
       "    .dataframe thead th {\n",
       "        text-align: right;\n",
       "    }\n",
       "</style>\n",
       "<table border=\"1\" class=\"dataframe\">\n",
       "  <thead>\n",
       "    <tr style=\"text-align: right;\">\n",
       "      <th></th>\n",
       "      <th>Date</th>\n",
       "      <th>Weekday</th>\n",
       "      <th>BlockDensity</th>\n",
       "      <th>OtherPuzAns</th>\n",
       "      <th>AnswerLength</th>\n",
       "      <th>WeekdayNum</th>\n",
       "    </tr>\n",
       "  </thead>\n",
       "  <tbody>\n",
       "    <tr>\n",
       "      <th>4237</th>\n",
       "      <td>2005-10-06</td>\n",
       "      <td>Thursday</td>\n",
       "      <td>16.444444</td>\n",
       "      <td>5735</td>\n",
       "      <td>4.947368</td>\n",
       "      <td>3</td>\n",
       "    </tr>\n",
       "    <tr>\n",
       "      <th>1997</th>\n",
       "      <td>1999-07-18</td>\n",
       "      <td>Sunday</td>\n",
       "      <td>18.140590</td>\n",
       "      <td>7834</td>\n",
       "      <td>5.450704</td>\n",
       "      <td>6</td>\n",
       "    </tr>\n",
       "    <tr>\n",
       "      <th>1354</th>\n",
       "      <td>1997-10-10</td>\n",
       "      <td>Friday</td>\n",
       "      <td>14.222222</td>\n",
       "      <td>3832</td>\n",
       "      <td>5.514286</td>\n",
       "      <td>4</td>\n",
       "    </tr>\n",
       "    <tr>\n",
       "      <th>803</th>\n",
       "      <td>1996-04-07</td>\n",
       "      <td>Sunday</td>\n",
       "      <td>18.367347</td>\n",
       "      <td>9071</td>\n",
       "      <td>5.217391</td>\n",
       "      <td>6</td>\n",
       "    </tr>\n",
       "    <tr>\n",
       "      <th>6466</th>\n",
       "      <td>2011-12-24</td>\n",
       "      <td>Saturday</td>\n",
       "      <td>11.555556</td>\n",
       "      <td>3584</td>\n",
       "      <td>5.685714</td>\n",
       "      <td>5</td>\n",
       "    </tr>\n",
       "  </tbody>\n",
       "</table>\n",
       "</div>"
      ],
      "text/plain": [
       "            Date   Weekday  BlockDensity  OtherPuzAns  AnswerLength  \\\n",
       "4237  2005-10-06  Thursday     16.444444         5735      4.947368   \n",
       "1997  1999-07-18    Sunday     18.140590         7834      5.450704   \n",
       "1354  1997-10-10    Friday     14.222222         3832      5.514286   \n",
       "803   1996-04-07    Sunday     18.367347         9071      5.217391   \n",
       "6466  2011-12-24  Saturday     11.555556         3584      5.685714   \n",
       "\n",
       "      WeekdayNum  \n",
       "4237           3  \n",
       "1997           6  \n",
       "1354           4  \n",
       "803            6  \n",
       "6466           5  "
      ]
     },
     "execution_count": 2,
     "metadata": {},
     "output_type": "execute_result"
    }
   ],
   "source": [
    "features = pd.read_csv('nick_df_features.csv',index_col=0)\n",
    "\n",
    "features.sample(5)"
   ]
  },
  {
   "cell_type": "code",
   "execution_count": 3,
   "metadata": {},
   "outputs": [],
   "source": [
    "class_labels = features.groupby(['WeekdayNum','Weekday']).size().reset_index()['Weekday'].tolist()"
   ]
  },
  {
   "cell_type": "code",
   "execution_count": 4,
   "metadata": {},
   "outputs": [],
   "source": [
    "X = features[['BlockDensity','OtherPuzAns','AnswerLength']].to_numpy()\n",
    "y = features[['WeekdayNum']].to_numpy()"
   ]
  },
  {
   "cell_type": "code",
   "execution_count": 5,
   "metadata": {},
   "outputs": [],
   "source": [
    "X_train, X_test, y_train, y_test = train_test_split(X, y, \n",
    "                                                    test_size=0.25,\n",
    "                                                    random_state = 617, \n",
    "                                                    shuffle=True,\n",
    "                                                    stratify=y)"
   ]
  },
  {
   "cell_type": "code",
   "execution_count": 6,
   "metadata": {},
   "outputs": [],
   "source": [
    "dtree = DecisionTreeClassifier(max_depth=8, random_state=440)\n",
    "rf = RandomForestClassifier(max_depth=8, random_state=617)\n",
    "svc = LinearSVC(C=3.74,loss=\"hinge\",max_iter=200000)"
   ]
  },
  {
   "cell_type": "code",
   "execution_count": 7,
   "metadata": {},
   "outputs": [],
   "source": [
    "vote = VotingClassifier([('dtree',DecisionTreeClassifier(max_depth=8, random_state=440)),\n",
    "                         ('rf',RandomForestClassifier(max_depth=8, random_state=617)),\n",
    "                         ('svc',LinearSVC(C=3.74,loss=\"hinge\",max_iter=200000))])"
   ]
  },
  {
   "cell_type": "code",
   "execution_count": 8,
   "metadata": {},
   "outputs": [],
   "source": [
    "#vote.fit(X_train, y_train.ravel())"
   ]
  },
  {
   "cell_type": "code",
   "execution_count": 9,
   "metadata": {},
   "outputs": [],
   "source": [
    "# pred = vote.predict(X_test)\n",
    "# print(\"Accuracy:\",np.round(accuracy_score(y_test,pred)*100,2))"
   ]
  },
  {
   "cell_type": "code",
   "execution_count": 10,
   "metadata": {},
   "outputs": [
    {
     "name": "stdout",
     "output_type": "stream",
     "text": [
      "Model: decision tree\t Accuracy: 48.11\n",
      "Model: random forest\t Accuracy: 48.98\n"
     ]
    },
    {
     "name": "stderr",
     "output_type": "stream",
     "text": [
      "c:\\users\\ndanis\\appdata\\local\\programs\\python\\python37\\lib\\site-packages\\sklearn\\svm\\_base.py:986: ConvergenceWarning: Liblinear failed to converge, increase the number of iterations.\n",
      "  \"the number of iterations.\", ConvergenceWarning)\n"
     ]
    },
    {
     "name": "stdout",
     "output_type": "stream",
     "text": [
      "Model: support vector\t Accuracy: 26.48\n",
      "Model: voting\t Accuracy: 48.11\n"
     ]
    },
    {
     "name": "stderr",
     "output_type": "stream",
     "text": [
      "c:\\users\\ndanis\\appdata\\local\\programs\\python\\python37\\lib\\site-packages\\sklearn\\svm\\_base.py:986: ConvergenceWarning: Liblinear failed to converge, increase the number of iterations.\n",
      "  \"the number of iterations.\", ConvergenceWarning)\n"
     ]
    }
   ],
   "source": [
    "# print each classifier's accuracy\n",
    "for name,clf in ([\"decision tree\",dtree],\n",
    "                 [\"random forest\",rf],\n",
    "                 [\"support vector\",svc],\n",
    "                 [\"voting\", vote]):\n",
    "    # fit the model\n",
    "    clf.fit(X_train,y_train.ravel())\n",
    "    \n",
    "    # predict\n",
    "    y_pred = clf.predict(X_test)\n",
    "    \n",
    "    # get acc\n",
    "    acc = np.round(accuracy_score(y_test,y_pred)*100,2)\n",
    "    \n",
    "    print(f\"Model: {name}\\t Accuracy: {acc}\")"
   ]
  },
  {
   "cell_type": "code",
   "execution_count": 11,
   "metadata": {},
   "outputs": [
    {
     "data": {
      "image/png": "[encoded data removed]",
      "text/plain": [
       "<Figure size 720x720 with 1 Axes>"
      ]
     },
     "metadata": {
      "needs_background": "light"
     },
     "output_type": "display_data"
    }
   ],
   "source": [
    "fig, ax = plt.subplots(figsize=(10,10))\n",
    "plot_confusion_matrix(vote, X_test, y_test, \n",
    "                      display_labels=class_labels,\n",
    "                      ax=ax, \n",
    "                      normalize='true',\n",
    "                      cmap=cm.get_cmap('Blues'),\n",
    "                      colorbar=False)\n",
    "ax.set_title(f\"Normalized confusion matrix for voting model\", fontsize=18)\n",
    "plt.show()"
   ]
  },
  {
   "cell_type": "code",
   "execution_count": null,
   "metadata": {},
   "outputs": [],
   "source": []
  }
 ],
 "metadata": {
  "kernelspec": {
   "display_name": "Python 3",
   "language": "python",
   "name": "python3"
  },
  "language_info": {
   "codemirror_mode": {
    "name": "ipython",
    "version": 3
   },
   "file_extension": ".py",
   "mimetype": "text/x-python",
   "name": "python",
   "nbconvert_exporter": "python",
   "pygments_lexer": "ipython3",
   "version": "3.7.6"
  }
 },
 "nbformat": 4,
 "nbformat_minor": 4
}
