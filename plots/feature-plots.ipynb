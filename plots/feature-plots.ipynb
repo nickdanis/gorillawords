{
 "cells": [
  {
   "cell_type": "markdown",
   "metadata": {},
   "source": [
    "# Feature definitions and plots\n",
    "\n",
    "This notebook contains the definitions for the core features used in our analysis. For each, a boxplot is giving showing general trends. Additionally, a sample of the data collected is given (`data-sample.csv`)."
   ]
  },
  {
   "cell_type": "code",
   "execution_count": 1,
   "metadata": {},
   "outputs": [],
   "source": [
    "import pandas as pd\n",
    "import numpy as np\n",
    "import matplotlib.pyplot as plt\n",
    "import matplotlib.cm as cm #color maps"
   ]
  },
  {
   "cell_type": "code",
   "execution_count": 2,
   "metadata": {},
   "outputs": [],
   "source": [
    "df = pd.read_csv(\"../jv-xword-full.csv\",\n",
    "                 converters={'Answer' : str, 'Hint' : str, 'MissingLetters' : str}, \n",
    "                 encoding='latin-1',\n",
    "                parse_dates=['date'])\n",
    "df.rename(columns={\"date\" : \"Date\"}, inplace=True)"
   ]
  },
  {
   "cell_type": "code",
   "execution_count": 3,
   "metadata": {},
   "outputs": [],
   "source": [
    "sample_data = df.sample(20)"
   ]
  },
  {
   "cell_type": "code",
   "execution_count": 4,
   "metadata": {},
   "outputs": [],
   "source": [
    "#sample_data.to_csv('data-sample.csv',index=False)"
   ]
  },
  {
   "cell_type": "markdown",
   "metadata": {},
   "source": [
    "## Load pre-calculated feature data"
   ]
  },
  {
   "cell_type": "code",
   "execution_count": 5,
   "metadata": {},
   "outputs": [
    {
     "name": "stdout",
     "output_type": "stream",
     "text": [
      "<class 'pandas.core.frame.DataFrame'>\n",
      "RangeIndex: 9757 entries, 0 to 9756\n",
      "Data columns (total 14 columns):\n",
      " #   Column                   Non-Null Count  Dtype         \n",
      "---  ------                   --------------  -----         \n",
      " 0   date                     9757 non-null   datetime64[ns]\n",
      " 1   Weekday                  9757 non-null   object        \n",
      " 2   OtherPuzAns              9757 non-null   float64       \n",
      " 3   BlockDensity             9757 non-null   float64       \n",
      " 4   AvgHintLength            9757 non-null   float64       \n",
      " 5   AvgAnswerLength          9757 non-null   float64       \n",
      " 6   NumHints                 9757 non-null   int64         \n",
      " 7   NumOneWordHints          9757 non-null   int64         \n",
      " 8   PctOneWdHints            9757 non-null   float64       \n",
      " 9   PctPerplex               9757 non-null   float64       \n",
      " 10  WeekdayNum               9757 non-null   int64         \n",
      " 11  NumRepeatedAnswers       9757 non-null   int64         \n",
      " 12  CumTotalAnswers          9757 non-null   int64         \n",
      " 13  NumRepeatedAnswers_Norm  9757 non-null   float64       \n",
      "dtypes: datetime64[ns](1), float64(7), int64(5), object(1)\n",
      "memory usage: 1.0+ MB\n"
     ]
    }
   ],
   "source": [
    "features = pd.read_csv('../jv-features.csv',parse_dates=['date'])\n",
    "features.info()"
   ]
  },
  {
   "cell_type": "markdown",
   "metadata": {},
   "source": [
    "## BlockDensity\n",
    "\n",
    "BlockDensity is measured for each puzzle as the percentage of the puzzle grid consisting of black blocks."
   ]
  },
  {
   "cell_type": "code",
   "execution_count": 6,
   "metadata": {},
   "outputs": [
    {
     "data": {
      "text/html": [
       "<div>\n",
       "<style scoped>\n",
       "    .dataframe tbody tr th:only-of-type {\n",
       "        vertical-align: middle;\n",
       "    }\n",
       "\n",
       "    .dataframe tbody tr th {\n",
       "        vertical-align: top;\n",
       "    }\n",
       "\n",
       "    .dataframe thead th {\n",
       "        text-align: right;\n",
       "    }\n",
       "</style>\n",
       "<table border=\"1\" class=\"dataframe\">\n",
       "  <thead>\n",
       "    <tr style=\"text-align: right;\">\n",
       "      <th></th>\n",
       "      <th>WeekdayNum</th>\n",
       "      <th>Weekday</th>\n",
       "      <th>mean</th>\n",
       "      <th>std</th>\n",
       "      <th>list</th>\n",
       "    </tr>\n",
       "  </thead>\n",
       "  <tbody>\n",
       "    <tr>\n",
       "      <th>0</th>\n",
       "      <td>0</td>\n",
       "      <td>Monday</td>\n",
       "      <td>16.664341</td>\n",
       "      <td>1.056456</td>\n",
       "      <td>[18.66666666666667, 16.44444444444444, 17.7777...</td>\n",
       "    </tr>\n",
       "    <tr>\n",
       "      <th>1</th>\n",
       "      <td>1</td>\n",
       "      <td>Tuesday</td>\n",
       "      <td>16.592331</td>\n",
       "      <td>1.056259</td>\n",
       "      <td>[16.0, 17.77777777777778, 16.0, 14.22222222222...</td>\n",
       "    </tr>\n",
       "    <tr>\n",
       "      <th>2</th>\n",
       "      <td>2</td>\n",
       "      <td>Wednesday</td>\n",
       "      <td>16.609426</td>\n",
       "      <td>1.196726</td>\n",
       "      <td>[16.88888888888889, 17.77777777777778, 16.8888...</td>\n",
       "    </tr>\n",
       "    <tr>\n",
       "      <th>3</th>\n",
       "      <td>3</td>\n",
       "      <td>Thursday</td>\n",
       "      <td>16.394120</td>\n",
       "      <td>1.449191</td>\n",
       "      <td>[16.88888888888889, 16.88888888888889, 16.8888...</td>\n",
       "    </tr>\n",
       "    <tr>\n",
       "      <th>4</th>\n",
       "      <td>4</td>\n",
       "      <td>Friday</td>\n",
       "      <td>13.954222</td>\n",
       "      <td>1.904746</td>\n",
       "      <td>[18.66666666666667, 15.555555555555562, 22.222...</td>\n",
       "    </tr>\n",
       "    <tr>\n",
       "      <th>5</th>\n",
       "      <td>5</td>\n",
       "      <td>Saturday</td>\n",
       "      <td>13.656871</td>\n",
       "      <td>1.786174</td>\n",
       "      <td>[16.88888888888889, 16.0, 14.666666666666664, ...</td>\n",
       "    </tr>\n",
       "    <tr>\n",
       "      <th>6</th>\n",
       "      <td>6</td>\n",
       "      <td>Sunday</td>\n",
       "      <td>16.781243</td>\n",
       "      <td>1.184084</td>\n",
       "      <td>[20.037807183364837, 17.687074829931976, 15.87...</td>\n",
       "    </tr>\n",
       "  </tbody>\n",
       "</table>\n",
       "</div>"
      ],
      "text/plain": [
       "   WeekdayNum    Weekday       mean       std  \\\n",
       "0           0     Monday  16.664341  1.056456   \n",
       "1           1    Tuesday  16.592331  1.056259   \n",
       "2           2  Wednesday  16.609426  1.196726   \n",
       "3           3   Thursday  16.394120  1.449191   \n",
       "4           4     Friday  13.954222  1.904746   \n",
       "5           5   Saturday  13.656871  1.786174   \n",
       "6           6     Sunday  16.781243  1.184084   \n",
       "\n",
       "                                                list  \n",
       "0  [18.66666666666667, 16.44444444444444, 17.7777...  \n",
       "1  [16.0, 17.77777777777778, 16.0, 14.22222222222...  \n",
       "2  [16.88888888888889, 17.77777777777778, 16.8888...  \n",
       "3  [16.88888888888889, 16.88888888888889, 16.8888...  \n",
       "4  [18.66666666666667, 15.555555555555562, 22.222...  \n",
       "5  [16.88888888888889, 16.0, 14.666666666666664, ...  \n",
       "6  [20.037807183364837, 17.687074829931976, 15.87...  "
      ]
     },
     "execution_count": 6,
     "metadata": {},
     "output_type": "execute_result"
    }
   ],
   "source": [
    "block_data = features.groupby(['WeekdayNum','Weekday'])['BlockDensity'].agg([np.mean, np.std, list]).reset_index()\n",
    "block_data"
   ]
  },
  {
   "cell_type": "code",
   "execution_count": 7,
   "metadata": {},
   "outputs": [
    {
     "data": {
      "image/png": "[encoded data removed]",
      "text/plain": [
       "<Figure size 720x576 with 1 Axes>"
      ]
     },
     "metadata": {
      "needs_background": "light"
     },
     "output_type": "display_data"
    }
   ],
   "source": [
    "# plot\n",
    "fig, ax = plt.subplots()\n",
    "fig.set_size_inches(10, 8)\n",
    "bplot = ax.boxplot(block_data['list'],patch_artist=True, medianprops=dict(color='black'))\n",
    "ax.set_xticklabels(block_data['Weekday'].tolist(),fontsize=14)\n",
    "ax.set_ylabel('pct of puzzle as blocks',fontsize=16)\n",
    "ax.set_title('BlockDensity',fontsize=20)\n",
    "ax.grid(True,axis='y')\n",
    "\n",
    "cmap = cm.get_cmap('Pastel1')\n",
    "\n",
    "for patch, color in zip(bplot['boxes'], cmap.colors):\n",
    "    patch.set_facecolor(color)\n",
    "plt.savefig(fname=\"BlockDensity.png\")\n",
    "#plt.show()"
   ]
  },
  {
   "cell_type": "markdown",
   "metadata": {},
   "source": [
    "## AvgAnswerLength\n",
    "\n",
    "AvgAnswerLength measures the average length of the puzzle's answers."
   ]
  },
  {
   "cell_type": "code",
   "execution_count": 8,
   "metadata": {},
   "outputs": [
    {
     "data": {
      "text/html": [
       "<div>\n",
       "<style scoped>\n",
       "    .dataframe tbody tr th:only-of-type {\n",
       "        vertical-align: middle;\n",
       "    }\n",
       "\n",
       "    .dataframe tbody tr th {\n",
       "        vertical-align: top;\n",
       "    }\n",
       "\n",
       "    .dataframe thead th {\n",
       "        text-align: right;\n",
       "    }\n",
       "</style>\n",
       "<table border=\"1\" class=\"dataframe\">\n",
       "  <thead>\n",
       "    <tr style=\"text-align: right;\">\n",
       "      <th></th>\n",
       "      <th>WeekdayNum</th>\n",
       "      <th>Weekday</th>\n",
       "      <th>mean</th>\n",
       "      <th>list</th>\n",
       "    </tr>\n",
       "  </thead>\n",
       "  <tbody>\n",
       "    <tr>\n",
       "      <th>0</th>\n",
       "      <td>0</td>\n",
       "      <td>Monday</td>\n",
       "      <td>4.877061</td>\n",
       "      <td>[4.815789473684211, 5.371428571428571, 5.0, 4....</td>\n",
       "    </tr>\n",
       "    <tr>\n",
       "      <th>1</th>\n",
       "      <td>1</td>\n",
       "      <td>Tuesday</td>\n",
       "      <td>4.897588</td>\n",
       "      <td>[4.846153846153846, 4.743589743589744, 5.10810...</td>\n",
       "    </tr>\n",
       "    <tr>\n",
       "      <th>2</th>\n",
       "      <td>2</td>\n",
       "      <td>Wednesday</td>\n",
       "      <td>4.938302</td>\n",
       "      <td>[4.675, 4.743589743589744, 4.794871794871795, ...</td>\n",
       "    </tr>\n",
       "    <tr>\n",
       "      <th>3</th>\n",
       "      <td>3</td>\n",
       "      <td>Thursday</td>\n",
       "      <td>5.112203</td>\n",
       "      <td>[4.794871794871795, 4.794871794871795, 4.92105...</td>\n",
       "    </tr>\n",
       "    <tr>\n",
       "      <th>4</th>\n",
       "      <td>4</td>\n",
       "      <td>Friday</td>\n",
       "      <td>5.589881</td>\n",
       "      <td>[4.6923076923076925, 5.428571428571429, 4.7297...</td>\n",
       "    </tr>\n",
       "    <tr>\n",
       "      <th>5</th>\n",
       "      <td>5</td>\n",
       "      <td>Saturday</td>\n",
       "      <td>5.662977</td>\n",
       "      <td>[5.666666666666667, 4.846153846153846, 5.48571...</td>\n",
       "    </tr>\n",
       "    <tr>\n",
       "      <th>6</th>\n",
       "      <td>6</td>\n",
       "      <td>Sunday</td>\n",
       "      <td>5.307189</td>\n",
       "      <td>[4.976470588235294, 5.185714285714286, 5.37681...</td>\n",
       "    </tr>\n",
       "  </tbody>\n",
       "</table>\n",
       "</div>"
      ],
      "text/plain": [
       "   WeekdayNum    Weekday      mean  \\\n",
       "0           0     Monday  4.877061   \n",
       "1           1    Tuesday  4.897588   \n",
       "2           2  Wednesday  4.938302   \n",
       "3           3   Thursday  5.112203   \n",
       "4           4     Friday  5.589881   \n",
       "5           5   Saturday  5.662977   \n",
       "6           6     Sunday  5.307189   \n",
       "\n",
       "                                                list  \n",
       "0  [4.815789473684211, 5.371428571428571, 5.0, 4....  \n",
       "1  [4.846153846153846, 4.743589743589744, 5.10810...  \n",
       "2  [4.675, 4.743589743589744, 4.794871794871795, ...  \n",
       "3  [4.794871794871795, 4.794871794871795, 4.92105...  \n",
       "4  [4.6923076923076925, 5.428571428571429, 4.7297...  \n",
       "5  [5.666666666666667, 4.846153846153846, 5.48571...  \n",
       "6  [4.976470588235294, 5.185714285714286, 5.37681...  "
      ]
     },
     "execution_count": 8,
     "metadata": {},
     "output_type": "execute_result"
    }
   ],
   "source": [
    "f_len = features.groupby(['WeekdayNum','Weekday'])['AvgAnswerLength'].agg([np.mean, list]).reset_index().copy()\n",
    "f_len"
   ]
  },
  {
   "cell_type": "code",
   "execution_count": 9,
   "metadata": {},
   "outputs": [
    {
     "data": {
      "image/png": "[encoded data removed]",
      "text/plain": [
       "<Figure size 720x576 with 1 Axes>"
      ]
     },
     "metadata": {
      "needs_background": "light"
     },
     "output_type": "display_data"
    }
   ],
   "source": [
    "fig1, ax1 = plt.subplots()\n",
    "fig1.set_size_inches(10, 8)\n",
    "\n",
    "bplot = ax1.boxplot(f_len['list'], \n",
    "                    showfliers=False, \n",
    "                    showmeans=True, \n",
    "                    patch_artist=True,\n",
    "                    medianprops=dict(color='black'))\n",
    "ax1.set_xticklabels(f_len['Weekday'].tolist(),fontsize=14)\n",
    "ax1.set_ylabel('length of answer',fontsize=16)\n",
    "ax1.set_title('AvgAnswerLength',fontsize=20)\n",
    "ax1.grid(True,axis='y')\n",
    "\n",
    "cmap = cm.get_cmap('Pastel1')\n",
    "\n",
    "for patch, color in zip(bplot['boxes'], cmap.colors):\n",
    "    patch.set_facecolor(color)\n",
    "plt.savefig(fname=\"AvgAnswerLength.png\")\n",
    "plt.show()"
   ]
  },
  {
   "cell_type": "markdown",
   "metadata": {},
   "source": [
    "## AvgHintLength\n",
    "\n",
    "AvgHintLength measures the average length (in characters) of the puzzle's hints. "
   ]
  },
  {
   "cell_type": "code",
   "execution_count": 10,
   "metadata": {},
   "outputs": [
    {
     "data": {
      "text/html": [
       "<div>\n",
       "<style scoped>\n",
       "    .dataframe tbody tr th:only-of-type {\n",
       "        vertical-align: middle;\n",
       "    }\n",
       "\n",
       "    .dataframe tbody tr th {\n",
       "        vertical-align: top;\n",
       "    }\n",
       "\n",
       "    .dataframe thead th {\n",
       "        text-align: right;\n",
       "    }\n",
       "</style>\n",
       "<table border=\"1\" class=\"dataframe\">\n",
       "  <thead>\n",
       "    <tr style=\"text-align: right;\">\n",
       "      <th></th>\n",
       "      <th>WeekdayNum</th>\n",
       "      <th>Weekday</th>\n",
       "      <th>mean</th>\n",
       "      <th>list</th>\n",
       "    </tr>\n",
       "  </thead>\n",
       "  <tbody>\n",
       "    <tr>\n",
       "      <th>0</th>\n",
       "      <td>0</td>\n",
       "      <td>Monday</td>\n",
       "      <td>18.079926</td>\n",
       "      <td>[13.36842105263158, 15.957142857142856, 13.527...</td>\n",
       "    </tr>\n",
       "    <tr>\n",
       "      <th>1</th>\n",
       "      <td>1</td>\n",
       "      <td>Tuesday</td>\n",
       "      <td>18.014501</td>\n",
       "      <td>[14.602564102564102, 12.307692307692308, 13.79...</td>\n",
       "    </tr>\n",
       "    <tr>\n",
       "      <th>2</th>\n",
       "      <td>2</td>\n",
       "      <td>Wednesday</td>\n",
       "      <td>17.936916</td>\n",
       "      <td>[13.3125, 15.17948717948718, 15.26923076923077...</td>\n",
       "    </tr>\n",
       "    <tr>\n",
       "      <th>3</th>\n",
       "      <td>3</td>\n",
       "      <td>Thursday</td>\n",
       "      <td>18.237317</td>\n",
       "      <td>[13.448717948717947, 15.08974358974359, 14.921...</td>\n",
       "    </tr>\n",
       "    <tr>\n",
       "      <th>4</th>\n",
       "      <td>4</td>\n",
       "      <td>Friday</td>\n",
       "      <td>18.895185</td>\n",
       "      <td>[14.08974358974359, 14.8, 13.432432432432432, ...</td>\n",
       "    </tr>\n",
       "    <tr>\n",
       "      <th>5</th>\n",
       "      <td>5</td>\n",
       "      <td>Saturday</td>\n",
       "      <td>19.274796</td>\n",
       "      <td>[14.969696969696969, 13.846153846153848, 15.42...</td>\n",
       "    </tr>\n",
       "    <tr>\n",
       "      <th>6</th>\n",
       "      <td>6</td>\n",
       "      <td>Sunday</td>\n",
       "      <td>18.106967</td>\n",
       "      <td>[15.547058823529412, 14.5, 15.58695652173913, ...</td>\n",
       "    </tr>\n",
       "  </tbody>\n",
       "</table>\n",
       "</div>"
      ],
      "text/plain": [
       "   WeekdayNum    Weekday       mean  \\\n",
       "0           0     Monday  18.079926   \n",
       "1           1    Tuesday  18.014501   \n",
       "2           2  Wednesday  17.936916   \n",
       "3           3   Thursday  18.237317   \n",
       "4           4     Friday  18.895185   \n",
       "5           5   Saturday  19.274796   \n",
       "6           6     Sunday  18.106967   \n",
       "\n",
       "                                                list  \n",
       "0  [13.36842105263158, 15.957142857142856, 13.527...  \n",
       "1  [14.602564102564102, 12.307692307692308, 13.79...  \n",
       "2  [13.3125, 15.17948717948718, 15.26923076923077...  \n",
       "3  [13.448717948717947, 15.08974358974359, 14.921...  \n",
       "4  [14.08974358974359, 14.8, 13.432432432432432, ...  \n",
       "5  [14.969696969696969, 13.846153846153848, 15.42...  \n",
       "6  [15.547058823529412, 14.5, 15.58695652173913, ...  "
      ]
     },
     "execution_count": 10,
     "metadata": {},
     "output_type": "execute_result"
    }
   ],
   "source": [
    "h_len = features.groupby(['WeekdayNum','Weekday'])['AvgHintLength'].agg([np.mean, list]).reset_index().copy()\n",
    "h_len"
   ]
  },
  {
   "cell_type": "code",
   "execution_count": 11,
   "metadata": {},
   "outputs": [
    {
     "data": {
      "image/png": "[encoded data removed]",
      "text/plain": [
       "<Figure size 720x576 with 1 Axes>"
      ]
     },
     "metadata": {
      "needs_background": "light"
     },
     "output_type": "display_data"
    }
   ],
   "source": [
    "fig1, ax1 = plt.subplots()\n",
    "fig1.set_size_inches(10, 8)\n",
    "\n",
    "bplot = ax1.boxplot(h_len['list'], \n",
    "                    showfliers=False, \n",
    "                    showmeans=True, \n",
    "                    patch_artist=True,\n",
    "                    medianprops=dict(color='black'))\n",
    "ax1.set_xticklabels(h_len['Weekday'].tolist(),fontsize=14)\n",
    "ax1.set_ylabel('length of hint',fontsize=16)\n",
    "ax1.set_title('AvgHintLength',fontsize=20)\n",
    "ax1.grid(True,axis='y')\n",
    "\n",
    "cmap = cm.get_cmap('Pastel1')\n",
    "\n",
    "for patch, color in zip(bplot['boxes'], cmap.colors):\n",
    "    patch.set_facecolor(color)\n",
    "plt.savefig(fname=\"AvgHintLength.png\")\n",
    "plt.show()"
   ]
  },
  {
   "cell_type": "markdown",
   "metadata": {},
   "source": [
    "## OtherPuzAns\n",
    "\n",
    "This feature first counts, for each answer in the puzzle, how many total puzzles in the dataset include that answer. An individual puzzles OtherPuzAns score is the mean of all hints for that puzzle. "
   ]
  },
  {
   "cell_type": "code",
   "execution_count": 12,
   "metadata": {},
   "outputs": [
    {
     "data": {
      "text/html": [
       "<div>\n",
       "<style scoped>\n",
       "    .dataframe tbody tr th:only-of-type {\n",
       "        vertical-align: middle;\n",
       "    }\n",
       "\n",
       "    .dataframe tbody tr th {\n",
       "        vertical-align: top;\n",
       "    }\n",
       "\n",
       "    .dataframe thead th {\n",
       "        text-align: right;\n",
       "    }\n",
       "</style>\n",
       "<table border=\"1\" class=\"dataframe\">\n",
       "  <thead>\n",
       "    <tr style=\"text-align: right;\">\n",
       "      <th></th>\n",
       "      <th>WeekdayNum</th>\n",
       "      <th>Weekday</th>\n",
       "      <th>mean</th>\n",
       "      <th>std</th>\n",
       "      <th>sum</th>\n",
       "      <th>list</th>\n",
       "    </tr>\n",
       "  </thead>\n",
       "  <tbody>\n",
       "    <tr>\n",
       "      <th>0</th>\n",
       "      <td>0</td>\n",
       "      <td>Monday</td>\n",
       "      <td>78.138585</td>\n",
       "      <td>11.255638</td>\n",
       "      <td>109394.018852</td>\n",
       "      <td>[89.07894736842105, 70.57142857142857, 81.7567...</td>\n",
       "    </tr>\n",
       "    <tr>\n",
       "      <th>1</th>\n",
       "      <td>1</td>\n",
       "      <td>Tuesday</td>\n",
       "      <td>74.075295</td>\n",
       "      <td>11.905227</td>\n",
       "      <td>103557.262611</td>\n",
       "      <td>[84.25641025641026, 88.08974358974359, 54.8378...</td>\n",
       "    </tr>\n",
       "    <tr>\n",
       "      <th>2</th>\n",
       "      <td>2</td>\n",
       "      <td>Wednesday</td>\n",
       "      <td>71.710138</td>\n",
       "      <td>12.168271</td>\n",
       "      <td>100250.772443</td>\n",
       "      <td>[79.4, 74.08974358974359, 63.3974358974359, 62...</td>\n",
       "    </tr>\n",
       "    <tr>\n",
       "      <th>3</th>\n",
       "      <td>3</td>\n",
       "      <td>Thursday</td>\n",
       "      <td>65.211561</td>\n",
       "      <td>11.756639</td>\n",
       "      <td>90252.800571</td>\n",
       "      <td>[92.98717948717947, 93.93589743589745, 74.8289...</td>\n",
       "    </tr>\n",
       "    <tr>\n",
       "      <th>4</th>\n",
       "      <td>4</td>\n",
       "      <td>Friday</td>\n",
       "      <td>51.131815</td>\n",
       "      <td>12.929194</td>\n",
       "      <td>71737.937123</td>\n",
       "      <td>[84.41025641025641, 37.75714285714286, 70.5405...</td>\n",
       "    </tr>\n",
       "    <tr>\n",
       "      <th>5</th>\n",
       "      <td>5</td>\n",
       "      <td>Saturday</td>\n",
       "      <td>47.034400</td>\n",
       "      <td>12.172038</td>\n",
       "      <td>64813.403314</td>\n",
       "      <td>[46.86363636363637, 98.01282051282053, 48.2428...</td>\n",
       "    </tr>\n",
       "    <tr>\n",
       "      <th>6</th>\n",
       "      <td>6</td>\n",
       "      <td>Sunday</td>\n",
       "      <td>58.370779</td>\n",
       "      <td>8.569930</td>\n",
       "      <td>81485.607544</td>\n",
       "      <td>[69.84705882352941, 62.75714285714286, 57.6521...</td>\n",
       "    </tr>\n",
       "  </tbody>\n",
       "</table>\n",
       "</div>"
      ],
      "text/plain": [
       "   WeekdayNum    Weekday       mean        std            sum  \\\n",
       "0           0     Monday  78.138585  11.255638  109394.018852   \n",
       "1           1    Tuesday  74.075295  11.905227  103557.262611   \n",
       "2           2  Wednesday  71.710138  12.168271  100250.772443   \n",
       "3           3   Thursday  65.211561  11.756639   90252.800571   \n",
       "4           4     Friday  51.131815  12.929194   71737.937123   \n",
       "5           5   Saturday  47.034400  12.172038   64813.403314   \n",
       "6           6     Sunday  58.370779   8.569930   81485.607544   \n",
       "\n",
       "                                                list  \n",
       "0  [89.07894736842105, 70.57142857142857, 81.7567...  \n",
       "1  [84.25641025641026, 88.08974358974359, 54.8378...  \n",
       "2  [79.4, 74.08974358974359, 63.3974358974359, 62...  \n",
       "3  [92.98717948717947, 93.93589743589745, 74.8289...  \n",
       "4  [84.41025641025641, 37.75714285714286, 70.5405...  \n",
       "5  [46.86363636363637, 98.01282051282053, 48.2428...  \n",
       "6  [69.84705882352941, 62.75714285714286, 57.6521...  "
      ]
     },
     "execution_count": 12,
     "metadata": {},
     "output_type": "execute_result"
    }
   ],
   "source": [
    "rarity = features.groupby(['WeekdayNum','Weekday'])['OtherPuzAns'].agg([np.mean, np.std, sum, list]).reset_index().copy()\n",
    "\n",
    "rarity"
   ]
  },
  {
   "cell_type": "code",
   "execution_count": 13,
   "metadata": {},
   "outputs": [
    {
     "data": {
      "image/png": "[encoded data removed]",
      "text/plain": [
       "<Figure size 720x576 with 1 Axes>"
      ]
     },
     "metadata": {
      "needs_background": "light"
     },
     "output_type": "display_data"
    }
   ],
   "source": [
    "# plot\n",
    "fig, ax = plt.subplots()\n",
    "fig.set_size_inches(10, 8)\n",
    "bplot = ax.boxplot(rarity['list'],patch_artist=True, medianprops=dict(color='black'), showfliers=True, showmeans=True)\n",
    "ax.set_xticklabels(rarity['Weekday'].tolist(),fontsize=14)\n",
    "ax.set_ylabel('other puzzles with same answers',fontsize=16)\n",
    "ax.set_title('OtherPuzAns',fontsize=20)\n",
    "ax.grid(True,axis='y')\n",
    "\n",
    "cmap = cm.get_cmap('Pastel1')\n",
    "\n",
    "for patch, color in zip(bplot['boxes'], cmap.colors):\n",
    "    patch.set_facecolor(color)\n",
    "plt.savefig(fname=\"OtherPuzAns.png\")\n",
    "plt.show()"
   ]
  },
  {
   "cell_type": "markdown",
   "metadata": {},
   "source": [
    "## PctPerplex\n",
    "\n",
    "First, a bigram language model is trained on all answers. The perplexity for each answer is calculated, and all outliers are tagged, where is anything above $1.5*IQR + Q3$. The number of these perplexity outliers is counted for each puzzle as a percentage of total answers. The idea is a higher perplexity score might indicate more rare or obscure answer types. "
   ]
  },
  {
   "cell_type": "code",
   "execution_count": 14,
   "metadata": {},
   "outputs": [],
   "source": [
    "perplex_pct_data = features.groupby(['WeekdayNum','Weekday'])['PctPerplex'].agg([np.mean, list]).reset_index().sort_values('mean').copy()"
   ]
  },
  {
   "cell_type": "code",
   "execution_count": 15,
   "metadata": {},
   "outputs": [
    {
     "data": {
      "image/png": "[encoded data removed]",
      "text/plain": [
       "<Figure size 720x576 with 1 Axes>"
      ]
     },
     "metadata": {
      "needs_background": "light"
     },
     "output_type": "display_data"
    }
   ],
   "source": [
    "# plot\n",
    "fig, ax = plt.subplots()\n",
    "fig.set_size_inches(10, 8)\n",
    "bplot = ax.boxplot(perplex_pct_data['list'],patch_artist=True, medianprops=dict(color='black'), showfliers=False, showmeans=True)\n",
    "ax.set_xticklabels(perplex_pct_data['Weekday'].tolist(),fontsize=14)\n",
    "ax.set_ylabel('pct of perplexity outlier clues',fontsize=16)\n",
    "ax.set_title('PctPerplex',fontsize=20)\n",
    "ax.grid(True,axis='y')\n",
    "\n",
    "cmap = cm.get_cmap('Pastel1')\n",
    "\n",
    "for patch, color in zip(bplot['boxes'], cmap.colors):\n",
    "    patch.set_facecolor(color)\n",
    "plt.savefig(fname=\"PctPerplex.png\")\n",
    "plt.show()"
   ]
  },
  {
   "cell_type": "markdown",
   "metadata": {},
   "source": [
    "## PctWP\n",
    "\n",
    "Here, WP stands for *wordplay*. If a clue ends in a question mark, it indicates a play on words is involved. This feature counts the percentage of clues that end in a question mark."
   ]
  },
  {
   "cell_type": "code",
   "execution_count": 16,
   "metadata": {},
   "outputs": [
    {
     "name": "stdout",
     "output_type": "stream",
     "text": [
      "<class 'pandas.core.frame.DataFrame'>\n",
      "RangeIndex: 9757 entries, 0 to 9756\n",
      "Data columns (total 11 columns):\n",
      " #   Column           Non-Null Count  Dtype         \n",
      "---  ------           --------------  -----         \n",
      " 0   date             9757 non-null   datetime64[ns]\n",
      " 1   Weekday          9757 non-null   object        \n",
      " 2   WeekdayNum       9757 non-null   int64         \n",
      " 3   AvgHintLength    9757 non-null   float64       \n",
      " 4   AvgAnswerLength  9757 non-null   float64       \n",
      " 5   NumHints         9757 non-null   int64         \n",
      " 6   NumOneWordHints  9757 non-null   int64         \n",
      " 7   BlockDensity     9757 non-null   float64       \n",
      " 8   OtherPuzAns      9757 non-null   int64         \n",
      " 9   PctPNC           9757 non-null   float64       \n",
      " 10  PctWP            9757 non-null   float64       \n",
      "dtypes: datetime64[ns](1), float64(5), int64(4), object(1)\n",
      "memory usage: 838.6+ KB\n"
     ]
    }
   ],
   "source": [
    "ccfeatures = pd.read_csv('../cc-features.csv',parse_dates=['date'])\n",
    "ccfeatures.info()"
   ]
  },
  {
   "cell_type": "code",
   "execution_count": 17,
   "metadata": {},
   "outputs": [],
   "source": [
    "wp = ccfeatures.groupby(['WeekdayNum','Weekday'])['PctWP'].agg([np.mean, list]).reset_index().copy()"
   ]
  },
  {
   "cell_type": "code",
   "execution_count": 18,
   "metadata": {},
   "outputs": [
    {
     "data": {
      "image/png": "[encoded data removed]",
      "text/plain": [
       "<Figure size 720x576 with 1 Axes>"
      ]
     },
     "metadata": {
      "needs_background": "light"
     },
     "output_type": "display_data"
    }
   ],
   "source": [
    "# plot\n",
    "fig, ax = plt.subplots()\n",
    "fig.set_size_inches(10, 8)\n",
    "bplot = ax.boxplot(wp['list'],\n",
    "                   patch_artist=True, \n",
    "                   medianprops=dict(color='black'), \n",
    "                   showfliers=False, \n",
    "                   showmeans=True)\n",
    "ax.set_xticklabels(wp['Weekday'].tolist(),fontsize=14)\n",
    "ax.set_ylabel('pct of clues that end in \"?\"',fontsize=16)\n",
    "ax.set_title('PctWP',fontsize=20)\n",
    "ax.grid(True,axis='y')\n",
    "\n",
    "cmap = cm.get_cmap('Pastel1')\n",
    "\n",
    "for patch, color in zip(bplot['boxes'], cmap.colors):\n",
    "    patch.set_facecolor(color)\n",
    "plt.savefig(fname=\"PctWP.png\")\n",
    "plt.show()"
   ]
  },
  {
   "cell_type": "markdown",
   "metadata": {},
   "source": [
    "## PctPNC"
   ]
  },
  {
   "cell_type": "code",
   "execution_count": 19,
   "metadata": {},
   "outputs": [],
   "source": [
    "pnc = ccfeatures.groupby(['WeekdayNum','Weekday'])['PctPNC'].agg([np.mean, list]).reset_index().copy()"
   ]
  },
  {
   "cell_type": "code",
   "execution_count": 20,
   "metadata": {},
   "outputs": [
    {
     "data": {
      "image/png": "[encoded data removed]",
      "text/plain": [
       "<Figure size 720x576 with 1 Axes>"
      ]
     },
     "metadata": {
      "needs_background": "light"
     },
     "output_type": "display_data"
    }
   ],
   "source": [
    "# plot\n",
    "fig, ax = plt.subplots()\n",
    "fig.set_size_inches(10, 8)\n",
    "bplot = ax.boxplot(pnc['list'],\n",
    "                   patch_artist=True, \n",
    "                   medianprops=dict(color='black'), \n",
    "                   showfliers=False, \n",
    "                   showmeans=True)\n",
    "ax.set_xticklabels(pnc['Weekday'].tolist(),fontsize=14)\n",
    "ax.set_ylabel('pct of clues with proper nouns',fontsize=16)\n",
    "ax.set_title('PctPNC',fontsize=20)\n",
    "ax.grid(True,axis='y')\n",
    "\n",
    "cmap = cm.get_cmap('Pastel1')\n",
    "\n",
    "for patch, color in zip(bplot['boxes'], cmap.colors):\n",
    "    patch.set_facecolor(color)\n",
    "plt.savefig(fname=\"PctPNC.png\")\n",
    "plt.show()"
   ]
  },
  {
   "cell_type": "markdown",
   "metadata": {},
   "source": [
    "## NumRepeatedAnswers_Norm"
   ]
  },
  {
   "cell_type": "code",
   "execution_count": 21,
   "metadata": {},
   "outputs": [],
   "source": [
    "repeats = features.groupby(['WeekdayNum','Weekday'])['NumRepeatedAnswers_Norm'].agg([np.mean, list]).reset_index().copy()"
   ]
  },
  {
   "cell_type": "code",
   "execution_count": 22,
   "metadata": {},
   "outputs": [
    {
     "data": {
      "text/plain": [
       "'NumRepeatedAnswers_Norm'"
      ]
     },
     "execution_count": 22,
     "metadata": {},
     "output_type": "execute_result"
    }
   ],
   "source": [
    "title = str(features.columns[13])\n",
    "title"
   ]
  },
  {
   "cell_type": "code",
   "execution_count": 23,
   "metadata": {},
   "outputs": [
    {
     "data": {
      "image/png": "[encoded data removed]",
      "text/plain": [
       "<Figure size 720x576 with 1 Axes>"
      ]
     },
     "metadata": {
      "needs_background": "light"
     },
     "output_type": "display_data"
    }
   ],
   "source": [
    "# plot\n",
    "fig, ax = plt.subplots()\n",
    "fig.set_size_inches(10, 8)\n",
    "bplot = ax.boxplot(repeats['list'],\n",
    "                   patch_artist=True, \n",
    "                   medianprops=dict(color='black'), \n",
    "                   showfliers=False, \n",
    "                   showmeans=True)\n",
    "ax.set_xticklabels(repeats['Weekday'].tolist(),fontsize=14)\n",
    "ax.set_ylabel('clues in previous puzzles',fontsize=16)\n",
    "ax.set_title(title,fontsize=20)\n",
    "ax.grid(True,axis='y')\n",
    "\n",
    "cmap = cm.get_cmap('Pastel1')\n",
    "\n",
    "for patch, color in zip(bplot['boxes'], cmap.colors):\n",
    "    patch.set_facecolor(color)\n",
    "plt.savefig(fname=title+\".png\")\n",
    "plt.show()"
   ]
  },
  {
   "cell_type": "markdown",
   "metadata": {},
   "source": [
    "## PctOneWdHints\n",
    "\n",
    "This feature counts the number of one-word hints as a percentage of the total hints for a particular puzzle."
   ]
  },
  {
   "cell_type": "code",
   "execution_count": 24,
   "metadata": {},
   "outputs": [
    {
     "data": {
      "text/html": [
       "<div>\n",
       "<style scoped>\n",
       "    .dataframe tbody tr th:only-of-type {\n",
       "        vertical-align: middle;\n",
       "    }\n",
       "\n",
       "    .dataframe tbody tr th {\n",
       "        vertical-align: top;\n",
       "    }\n",
       "\n",
       "    .dataframe thead th {\n",
       "        text-align: right;\n",
       "    }\n",
       "</style>\n",
       "<table border=\"1\" class=\"dataframe\">\n",
       "  <thead>\n",
       "    <tr style=\"text-align: right;\">\n",
       "      <th></th>\n",
       "      <th>WeekdayNum</th>\n",
       "      <th>Weekday</th>\n",
       "      <th>mean</th>\n",
       "      <th>list</th>\n",
       "    </tr>\n",
       "  </thead>\n",
       "  <tbody>\n",
       "    <tr>\n",
       "      <th>0</th>\n",
       "      <td>0</td>\n",
       "      <td>Monday</td>\n",
       "      <td>14.230187</td>\n",
       "      <td>[21.052631578947366, 11.428571428571429, 21.62...</td>\n",
       "    </tr>\n",
       "    <tr>\n",
       "      <th>1</th>\n",
       "      <td>1</td>\n",
       "      <td>Tuesday</td>\n",
       "      <td>12.510068</td>\n",
       "      <td>[16.666666666666664, 34.61538461538461, 21.621...</td>\n",
       "    </tr>\n",
       "    <tr>\n",
       "      <th>2</th>\n",
       "      <td>2</td>\n",
       "      <td>Wednesday</td>\n",
       "      <td>12.485375</td>\n",
       "      <td>[30.0, 20.51282051282051, 10.256410256410255, ...</td>\n",
       "    </tr>\n",
       "    <tr>\n",
       "      <th>3</th>\n",
       "      <td>3</td>\n",
       "      <td>Thursday</td>\n",
       "      <td>16.025762</td>\n",
       "      <td>[24.35897435897436, 14.102564102564102, 18.421...</td>\n",
       "    </tr>\n",
       "    <tr>\n",
       "      <th>4</th>\n",
       "      <td>4</td>\n",
       "      <td>Friday</td>\n",
       "      <td>15.035198</td>\n",
       "      <td>[16.666666666666664, 17.142857142857142, 27.02...</td>\n",
       "    </tr>\n",
       "    <tr>\n",
       "      <th>5</th>\n",
       "      <td>5</td>\n",
       "      <td>Saturday</td>\n",
       "      <td>15.690659</td>\n",
       "      <td>[22.727272727272727, 30.76923076923077, 21.428...</td>\n",
       "    </tr>\n",
       "    <tr>\n",
       "      <th>6</th>\n",
       "      <td>6</td>\n",
       "      <td>Sunday</td>\n",
       "      <td>15.604428</td>\n",
       "      <td>[19.411764705882355, 25.0, 20.28985507246377, ...</td>\n",
       "    </tr>\n",
       "  </tbody>\n",
       "</table>\n",
       "</div>"
      ],
      "text/plain": [
       "   WeekdayNum    Weekday       mean  \\\n",
       "0           0     Monday  14.230187   \n",
       "1           1    Tuesday  12.510068   \n",
       "2           2  Wednesday  12.485375   \n",
       "3           3   Thursday  16.025762   \n",
       "4           4     Friday  15.035198   \n",
       "5           5   Saturday  15.690659   \n",
       "6           6     Sunday  15.604428   \n",
       "\n",
       "                                                list  \n",
       "0  [21.052631578947366, 11.428571428571429, 21.62...  \n",
       "1  [16.666666666666664, 34.61538461538461, 21.621...  \n",
       "2  [30.0, 20.51282051282051, 10.256410256410255, ...  \n",
       "3  [24.35897435897436, 14.102564102564102, 18.421...  \n",
       "4  [16.666666666666664, 17.142857142857142, 27.02...  \n",
       "5  [22.727272727272727, 30.76923076923077, 21.428...  \n",
       "6  [19.411764705882355, 25.0, 20.28985507246377, ...  "
      ]
     },
     "execution_count": 24,
     "metadata": {},
     "output_type": "execute_result"
    }
   ],
   "source": [
    "onewd = features.groupby(['WeekdayNum','Weekday'])['PctOneWdHints'].agg([np.mean, list]).reset_index().copy()\n",
    "onewd"
   ]
  },
  {
   "cell_type": "code",
   "execution_count": 25,
   "metadata": {},
   "outputs": [
    {
     "data": {
      "image/png": "[encoded data removed]",
      "text/plain": [
       "<Figure size 720x576 with 1 Axes>"
      ]
     },
     "metadata": {
      "needs_background": "light"
     },
     "output_type": "display_data"
    }
   ],
   "source": [
    "# plot\n",
    "fig, ax = plt.subplots()\n",
    "fig.set_size_inches(10, 8)\n",
    "bplot = ax.boxplot(onewd['list'],\n",
    "                   patch_artist=True, \n",
    "                   medianprops=dict(color='black'), \n",
    "                   showfliers=False, \n",
    "                   showmeans=True)\n",
    "ax.set_xticklabels(onewd['Weekday'].tolist(),fontsize=14)\n",
    "ax.set_ylabel('one-word hints',fontsize=16)\n",
    "ax.set_title('PctOneWdHints',fontsize=20)\n",
    "ax.grid(True,axis='y')\n",
    "\n",
    "cmap = cm.get_cmap('Pastel1')\n",
    "\n",
    "for patch, color in zip(bplot['boxes'], cmap.colors):\n",
    "    patch.set_facecolor(color)\n",
    "plt.savefig(fname=\"PctOneWdHints.png\")\n",
    "plt.show()"
   ]
  },
  {
   "cell_type": "code",
   "execution_count": null,
   "metadata": {},
   "outputs": [],
   "source": []
  }
 ],
 "metadata": {
  "kernelspec": {
   "display_name": "Python 3",
   "language": "python",
   "name": "python3"
  },
  "language_info": {
   "codemirror_mode": {
    "name": "ipython",
    "version": 3
   },
   "file_extension": ".py",
   "mimetype": "text/x-python",
   "name": "python",
   "nbconvert_exporter": "python",
   "pygments_lexer": "ipython3",
   "version": "3.7.6"
  }
 },
 "nbformat": 4,
 "nbformat_minor": 4
}
